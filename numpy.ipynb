{
 "cells": [
  {
   "cell_type": "code",
   "execution_count": 4,
   "metadata": {},
   "outputs": [
    {
     "name": "stdout",
     "output_type": "stream",
     "text": [
      "[[  1.  13.  21.  11. 196.  75.   4.   3.  34.   6.   7.   8.   0.   1.\n",
      "    2.   3.   4.   5.]\n",
      " [  3.  42.  12.  33. 766.  75.   4.  55.   6.   4.   3.   4.   5.   6.\n",
      "    7.   0.  11.  12.]\n",
      " [  1.  22.  33.  11. 999.  11.   2.   1.  78.   0.   1.   2.   9.   8.\n",
      "    7.   1.  76.  88.]]\n"
     ]
    }
   ],
   "source": [
    "import numpy as np\n",
    "a=np.genfromtxt(\"data.txt\", delimiter=\",\")\n",
    "print(a)"
   ]
  },
  {
   "cell_type": "code",
   "execution_count": 12,
   "metadata": {},
   "outputs": [],
   "source": [
    "np.ones((4,5), dtype=\"int16\")\n",
    "np.zeros((3, 5), dtype=\"int32\")\n",
    "x=np.array([1,2,3])\n",
    "y=np.repeat(x, 3, axis=0)\n"
   ]
  },
  {
   "cell_type": "code",
   "execution_count": 6,
   "metadata": {},
   "outputs": [
    {
     "name": "stdout",
     "output_type": "stream",
     "text": [
      "[[0. 0. 0. 0.]\n",
      " [0. 0. 0. 0.]\n",
      " [0. 0. 0. 0.]\n",
      " [0. 0. 0. 0.]]\n"
     ]
    }
   ],
   "source": [
    "import numpy as np\n",
    "numstudents=int(input(\"Students: \"))\n",
    "numsubjects=int(input(\"Subjects: \"))\n",
    "marks=np.zeros((numstudents,numsubjects))\n",
    "print(marks)"
   ]
  },
  {
   "cell_type": "code",
   "execution_count": 9,
   "metadata": {},
   "outputs": [
    {
     "name": "stdout",
     "output_type": "stream",
     "text": [
      "[[56. 67.]\n",
      " [89. 90.]]\n",
      "[123. 179.]\n"
     ]
    }
   ],
   "source": [
    "import numpy as np\n",
    "numstudents=int(input(\"Students: \"))\n",
    "numsubjects=int(input(\"Subjects: \"))\n",
    "marks=np.zeros((numstudents,numsubjects))\n",
    "\n",
    "\n",
    "for i in range(0, numstudents):\n",
    "    for j in range(0, numsubjects):\n",
    "        marks[i,j]=int(input(\"Enter the grade:\"))\n",
    "        \n",
    "print(marks)\n",
    "        \n",
    "\n",
    "S=np.sum(marks, axis=1, )\n",
    "print(S)"
   ]
  }
 ],
 "metadata": {
  "kernelspec": {
   "display_name": "Python 3",
   "language": "python",
   "name": "python3"
  },
  "language_info": {
   "codemirror_mode": {
    "name": "ipython",
    "version": 3
   },
   "file_extension": ".py",
   "mimetype": "text/x-python",
   "name": "python",
   "nbconvert_exporter": "python",
   "pygments_lexer": "ipython3",
   "version": "3.12.4"
  }
 },
 "nbformat": 4,
 "nbformat_minor": 2
}
